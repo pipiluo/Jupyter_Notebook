{
 "cells": [
  {
   "cell_type": "code",
   "execution_count": 21,
   "metadata": {},
   "outputs": [
    {
     "data": {
      "text/html": [
       "        <script type=\"text/javascript\">\n",
       "        window.PlotlyConfig = {MathJaxConfig: 'local'};\n",
       "        if (window.MathJax) {MathJax.Hub.Config({SVG: {font: \"STIX-Web\"}});}\n",
       "        if (typeof require !== 'undefined') {\n",
       "        require.undef(\"plotly\");\n",
       "        requirejs.config({\n",
       "            paths: {\n",
       "                'plotly': ['https://cdn.plot.ly/plotly-latest.min']\n",
       "            }\n",
       "        });\n",
       "        require(['plotly'], function(Plotly) {\n",
       "            window._Plotly = Plotly;\n",
       "        });\n",
       "        }\n",
       "        </script>\n",
       "        "
      ]
     },
     "metadata": {},
     "output_type": "display_data"
    }
   ],
   "source": [
    "# Data Manipulation\n",
    "import pandas as pd\n",
    "from numpy import *\n",
    "from datetime import timedelta\n",
    "import yfinance as yf\n",
    "from tabulate import tabulate\n",
    "\n",
    "# Math & Optimization\n",
    "from scipy.stats import norm\n",
    "from scipy.optimize import fsolve\n",
    "\n",
    "# Plotting\n",
    "import matplotlib.pyplot as plt\n",
    "import cufflinks as cf\n",
    "cf.set_config_file(offline=True)\n",
    "\n",
    "# Ignore warnings\n",
    "import warnings\n",
    "warnings.filterwarnings('ignore')"
   ]
  },
  {
   "cell_type": "code",
   "execution_count": 2,
   "metadata": {},
   "outputs": [],
   "source": [
    "def bs_price_cal(S, K, t, sigma_imp, u, cp):\n",
    "    d1 = (np.log(S / K) + (u + 0.5 * sigma_imp ** 2) * t) / (sigma_imp * np.sqrt(t))\n",
    "    d2 = d1 - (sigma_imp * np.sqrt(t))\n",
    "    \n",
    "    n_d1 = norm.cdf(d1)\n",
    "    n_d2 = norm.cdf(d2)\n",
    "    \n",
    "    if cp == 'call':\n",
    "        price = S * n_d1 - K * np.exp(-u * t) * n_d2\n",
    "    elif cp == 'put':\n",
    "        price = K * np.exp(-u * t) * (1 - n_d2) - S * (1 - n_d1)\n",
    "        \n",
    "    return price"
   ]
  },
  {
   "cell_type": "code",
   "execution_count": 28,
   "metadata": {},
   "outputs": [],
   "source": [
    "def Newton_Raphson(S, K, t, initial_guess, u, cp, target_price):\n",
    "    tolerance = 1e-20\n",
    "    diff = 1e10\n",
    "    sigma_imp = initial_guess\n",
    "    step_size = 0.00000001\n",
    "    count = 0\n",
    "    while abs(diff) > tolerance:\n",
    "        count += 1\n",
    "        derivative_bs_price_cal = (bs_price_cal(S, K, t, sigma_imp + step_size, u, cp) - bs_price_cal(S, K, t, sigma_imp - step_size, u, cp)) / (2 * step_size)\n",
    "        sigma_imp = sigma_imp - (bs_price_cal(S, K, t, sigma_imp, u, cp) - target_price)/ derivative_bs_price_cal\n",
    "        if sigma_imp < 0:\n",
    "            break\n",
    "        else:\n",
    "            diff = bs_price_cal(S, K, t, sigma_imp, u, cp) - target_price\n",
    "\n",
    "    return sigma_imp, count"
   ]
  },
  {
   "cell_type": "code",
   "execution_count": 29,
   "metadata": {},
   "outputs": [
    {
     "data": {
      "text/plain": [
       "8.916037278572539"
      ]
     },
     "execution_count": 29,
     "metadata": {},
     "output_type": "execute_result"
    }
   ],
   "source": [
    "bs_price_cal(100, 100, 1, 0.2, 0.02, 'call')"
   ]
  },
  {
   "cell_type": "code",
   "execution_count": 30,
   "metadata": {},
   "outputs": [
    {
     "data": {
      "text/plain": [
       "(0.227723031570633, 3)"
      ]
     },
     "execution_count": 30,
     "metadata": {},
     "output_type": "execute_result"
    }
   ],
   "source": [
    "Newton_Raphson(100, 100, 1, 0.2, 0.02, 'call', 10)"
   ]
  },
  {
   "cell_type": "code",
   "execution_count": null,
   "metadata": {},
   "outputs": [],
   "source": [
    "0.27842040930050715"
   ]
  },
  {
   "cell_type": "code",
   "execution_count": 17,
   "metadata": {},
   "outputs": [],
   "source": [
    "class BS:\n",
    "    \n",
    "    \"\"\"\n",
    "    This is a class for Options contract for pricing European options on stocks/index without dividends.\n",
    "    \n",
    "    Attributes: \n",
    "        spot          : int or float\n",
    "        strike        : int or float \n",
    "        rate          : float\n",
    "        dte           : int or float [days to expiration in number of years]\n",
    "        volatility    : float\n",
    "        callprice     : int or float [default None]\n",
    "        putprice      : int or float [default None]\n",
    "    \"\"\"    \n",
    "    \n",
    "    def __init__(self, spot, strike, rate, dte, volatility, callprice=None, putprice=None):\n",
    "        \n",
    "        # Spot Price\n",
    "        self.spot = spot\n",
    "        \n",
    "        # Option Strike\n",
    "        self.strike = strike\n",
    "        \n",
    "        # Interest Rate\n",
    "        self.rate = rate\n",
    "        \n",
    "        # Days To Expiration\n",
    "        self.dte = dte\n",
    "        \n",
    "        # Volatlity\n",
    "        self.volatility = volatility\n",
    "        \n",
    "        # Callprice # mkt price\n",
    "        self.callprice = callprice\n",
    "        \n",
    "        # Putprice # mkt price\n",
    "        self.putprice = putprice\n",
    "            \n",
    "        # Utility \n",
    "        self._a_ = self.volatility * self.dte**0.5\n",
    "        \n",
    "        if self.strike == 0:\n",
    "            raise ZeroDivisionError('The strike price cannot be zero')\n",
    "        else:\n",
    "            self._d1_ = (log(self.spot / self.strike) + \\\n",
    "                     (self.rate + (self.volatility**2) / 2) * self.dte) / self._a_\n",
    "        \n",
    "        self._d2_ = self._d1_ - self._a_\n",
    "        \n",
    "        self._b_ = e**-(self.rate * self.dte)\n",
    "        \n",
    "        \n",
    "        # The __dict__ attribute\n",
    "        '''\n",
    "        Contains all the attributes defined for the object itself. It maps the attribute name to its value.\n",
    "        '''\n",
    "        for i in ['callPrice', 'putPrice', 'callDelta', 'putDelta', 'callTheta', 'putTheta', \\\n",
    "                  'callRho', 'putRho', 'vega', 'gamma', 'impvol']:\n",
    "            self.__dict__[i] = None\n",
    "        \n",
    "        [self.callPrice, self.putPrice] = self._price()\n",
    "        [self.callDelta, self.putDelta] = self._delta()\n",
    "        [self.callTheta, self.putTheta] = self._theta()\n",
    "        [self.callRho, self.putRho] = self._rho()\n",
    "        self.vega = self._vega()\n",
    "        self.gamma = self._gamma()\n",
    "        self.impvol = self._impvol()\n",
    "    \n",
    "    # Option Price\n",
    "    def _price(self):\n",
    "        '''Returns the option price: [Call price, Put price]'''\n",
    "\n",
    "        if self.volatility == 0 or self.dte == 0:\n",
    "            call = maximum(0.0, self.spot - self.strike)\n",
    "            put = maximum(0.0, self.strike - self.spot)\n",
    "        else:\n",
    "            call = self.spot * norm.cdf(self._d1_) - self.strike * e**(-self.rate * \\\n",
    "                                                                       self.dte) * norm.cdf(self._d2_)\n",
    "\n",
    "            put = self.strike * e**(-self.rate * self.dte) * norm.cdf(-self._d2_) - \\\n",
    "                                                                        self.spot * norm.cdf(-self._d1_)\n",
    "        return [call, put]\n",
    "\n",
    "    # Option Delta\n",
    "    def _delta(self):\n",
    "        '''Returns the option delta: [Call delta, Put delta]'''\n",
    "\n",
    "        if self.volatility == 0 or self.dte == 0:\n",
    "            call = 1.0 if self.spot > self.strike else 0.0\n",
    "            put = -1.0 if self.spot < self.strike else 0.0\n",
    "        else:\n",
    "            call = norm.cdf(self._d1_)\n",
    "            put = -norm.cdf(-self._d1_)\n",
    "        return [call, put]\n",
    "\n",
    "    # Option Gamma\n",
    "    def _gamma(self):\n",
    "        '''Returns the option gamma'''\n",
    "        return norm.pdf(self._d1_) / (self.spot * self._a_)\n",
    "\n",
    "    # Option Vega\n",
    "    def _vega(self):\n",
    "        '''Returns the option vega'''\n",
    "        if self.volatility == 0 or self.dte == 0:\n",
    "            return 0.0\n",
    "        else:\n",
    "            return self.spot * norm.pdf(self._d1_) * self.dte**0.5 / 100\n",
    "\n",
    "    # Option Theta\n",
    "    def _theta(self):\n",
    "        '''Returns the option theta: [Call theta, Put theta]'''\n",
    "        call = -self.spot * norm.pdf(self._d1_) * self.volatility / (2 * self.dte**0.5) - self.rate * self.strike * self._b_ * norm.cdf(self._d2_)\n",
    "\n",
    "        put = -self.spot * norm.pdf(self._d1_) * self.volatility / (2 * self.dte**0.5) + self.rate * self.strike * self._b_ * norm.cdf(-self._d2_)\n",
    "        return [call / 365, put / 365]\n",
    "\n",
    "    # Option Rho\n",
    "    def _rho(self):\n",
    "        '''Returns the option rho: [Call rho, Put rho]'''\n",
    "        call = self.strike * self.dte * self._b_ * norm.cdf(self._d2_) / 100\n",
    "        put = -self.strike * self.dte * self._b_ * norm.cdf(-self._d2_) / 100\n",
    "\n",
    "        return [call, put]\n",
    "    \n",
    "    # Option Implied Volatility\n",
    "    def _impvol(self):\n",
    "        '''Returns the option implied volatility'''\n",
    "        if (self.callprice or self.putprice) is None:\n",
    "            return self.volatility\n",
    "        else:\n",
    "            def f(sigma):\n",
    "                option = BS(self.spot,self.strike,self.rate,self.dte,sigma)\n",
    "                if self.callprice:\n",
    "                    return option.callPrice - self.callprice # f(x) = BS_Call - MarketPrice\n",
    "                if self.putprice and not self.callprice:\n",
    "                    return option.putPrice - self.putprice\n",
    "\n",
    "            return maximum(1e-5, fsolve(f, 0.2)[0])"
   ]
  },
  {
   "cell_type": "code",
   "execution_count": 22,
   "metadata": {},
   "outputs": [],
   "source": [
    "def newton_iv(className, spot, strike, rate, dte, volatility, callprice=None, putprice=None):\n",
    "    \n",
    "    x0 = 1 # initial guess\n",
    "    h = 0.001\n",
    "    tolerance = 1e-7\n",
    "    epsilon = 1e-14 # some kind of error or floor\n",
    "    \n",
    "    maxiter = 200\n",
    "    \n",
    "    if callprice:\n",
    "        # f(x) = Black Scholes Call price - Market Price\n",
    "        f = lambda x: eval(className)(spot, strike, rate, dte, x).callPrice - callprice\n",
    "    if putprice:\n",
    "        f = lambda x: eval(className)(spot, strike, rate, dte, x).putPrice - putprice\n",
    "        \n",
    "    for i in range(maxiter):\n",
    "        y = f(x0)\n",
    "        yprime = (f(x0+h) - f(x0-h))/(2*h) # central difference\n",
    "        \n",
    "        if abs(yprime)<epsilon:\n",
    "            break # this is critial, because volatility cannot be negative\n",
    "        x1 = x0 - y/yprime\n",
    "        \n",
    "        if (abs(x1-x0) <= tolerance*abs(x1)):\n",
    "            break\n",
    "        x0=x1\n",
    "        \n",
    "    return x1, i"
   ]
  },
  {
   "cell_type": "code",
   "execution_count": 23,
   "metadata": {},
   "outputs": [
    {
     "data": {
      "text/plain": [
       "(0.22772303157063303, 3)"
      ]
     },
     "execution_count": 23,
     "metadata": {},
     "output_type": "execute_result"
    }
   ],
   "source": [
    "newton_iv('BS',100,100,0.02,1,0.2,callprice=10)"
   ]
  },
  {
   "cell_type": "code",
   "execution_count": null,
   "metadata": {},
   "outputs": [],
   "source": []
  }
 ],
 "metadata": {
  "kernelspec": {
   "display_name": "Python 3",
   "language": "python",
   "name": "python3"
  },
  "language_info": {
   "codemirror_mode": {
    "name": "ipython",
    "version": 3
   },
   "file_extension": ".py",
   "mimetype": "text/x-python",
   "name": "python",
   "nbconvert_exporter": "python",
   "pygments_lexer": "ipython3",
   "version": "3.7.10"
  },
  "toc": {
   "base_numbering": 1,
   "nav_menu": {},
   "number_sections": true,
   "sideBar": true,
   "skip_h1_title": false,
   "title_cell": "Table of Contents",
   "title_sidebar": "Contents",
   "toc_cell": false,
   "toc_position": {},
   "toc_section_display": true,
   "toc_window_display": false
  }
 },
 "nbformat": 4,
 "nbformat_minor": 2
}
